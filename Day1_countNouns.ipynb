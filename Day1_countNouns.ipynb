{
 "cells": [
  {
   "cell_type": "code",
   "execution_count": null,
   "metadata": {},
   "outputs": [],
   "source": [
    "# 1번 "
   ]
  },
  {
   "cell_type": "code",
   "execution_count": 1,
   "metadata": {},
   "outputs": [
    {
     "data": {
      "text/html": [
       "<div>\n",
       "<style scoped>\n",
       "    .dataframe tbody tr th:only-of-type {\n",
       "        vertical-align: middle;\n",
       "    }\n",
       "\n",
       "    .dataframe tbody tr th {\n",
       "        vertical-align: top;\n",
       "    }\n",
       "\n",
       "    .dataframe thead th {\n",
       "        text-align: right;\n",
       "    }\n",
       "</style>\n",
       "<table border=\"1\" class=\"dataframe\">\n",
       "  <thead>\n",
       "    <tr style=\"text-align: right;\">\n",
       "      <th></th>\n",
       "      <th>지문번호</th>\n",
       "      <th>지문</th>\n",
       "      <th>문제유형</th>\n",
       "      <th>질의문장</th>\n",
       "      <th>선생님</th>\n",
       "    </tr>\n",
       "  </thead>\n",
       "  <tbody>\n",
       "    <tr>\n",
       "      <th>0</th>\n",
       "      <td>209806</td>\n",
       "      <td>지문텍스트</td>\n",
       "      <td>문제 이해</td>\n",
       "      <td>문제의 내용이 무엇입니까?</td>\n",
       "      <td>홍길동</td>\n",
       "    </tr>\n",
       "    <tr>\n",
       "      <th>1</th>\n",
       "      <td>209807</td>\n",
       "      <td>지문텍스트</td>\n",
       "      <td>문제 이해</td>\n",
       "      <td>메이팜은 언제인가요? 내용이 무엇입니까?</td>\n",
       "      <td>불여우</td>\n",
       "    </tr>\n",
       "    <tr>\n",
       "      <th>2</th>\n",
       "      <td>209808</td>\n",
       "      <td>지문텍스트</td>\n",
       "      <td>문제 이해</td>\n",
       "      <td>서술할 내용이 무엇입니까?</td>\n",
       "      <td>크리스</td>\n",
       "    </tr>\n",
       "    <tr>\n",
       "      <th>3</th>\n",
       "      <td>209809</td>\n",
       "      <td>NaN</td>\n",
       "      <td>핵심 개념</td>\n",
       "      <td>몽돌'은 무엇입니까. 그리고 제목을 보고 떠오른 생각이나 느낌은 어떠합니까?</td>\n",
       "      <td>마우스</td>\n",
       "    </tr>\n",
       "    <tr>\n",
       "      <th>4</th>\n",
       "      <td>209810</td>\n",
       "      <td>NaN</td>\n",
       "      <td>핵심 개념</td>\n",
       "      <td>(가)에서 외딴 섬 바닷가의 몽돌은 어떻게 만들어져 왔다고 하였습니까?</td>\n",
       "      <td>제주도</td>\n",
       "    </tr>\n",
       "  </tbody>\n",
       "</table>\n",
       "</div>"
      ],
      "text/plain": [
       "     지문번호     지문   문제유형                                        질의문장  선생님\n",
       "0  209806  지문텍스트  문제 이해                              문제의 내용이 무엇입니까?  홍길동\n",
       "1  209807  지문텍스트  문제 이해                      메이팜은 언제인가요? 내용이 무엇입니까?  불여우\n",
       "2  209808  지문텍스트  문제 이해                              서술할 내용이 무엇입니까?  크리스\n",
       "3  209809    NaN  핵심 개념  몽돌'은 무엇입니까. 그리고 제목을 보고 떠오른 생각이나 느낌은 어떠합니까?  마우스\n",
       "4  209810    NaN  핵심 개념     (가)에서 외딴 섬 바닷가의 몽돌은 어떻게 만들어져 왔다고 하였습니까?  제주도"
      ]
     },
     "execution_count": 1,
     "metadata": {},
     "output_type": "execute_result"
    }
   ],
   "source": [
    "import pandas as pd\n",
    "\n",
    "quiz = pd.read_excel('attach_01.xlsx')\n",
    "quiz.head()"
   ]
  },
  {
   "cell_type": "code",
   "execution_count": 4,
   "metadata": {},
   "outputs": [
    {
     "data": {
      "text/plain": [
       "0                                        문제의 내용이 무엇입니까?\n",
       "1                                메이팜은 언제인가요? 내용이 무엇입니까?\n",
       "2                                        서술할 내용이 무엇입니까?\n",
       "3            몽돌'은 무엇입니까. 그리고 제목을 보고 떠오른 생각이나 느낌은 어떠합니까?\n",
       "4               (가)에서 외딴 섬 바닷가의 몽돌은 어떻게 만들어져 왔다고 하였습니까?\n",
       "5                           (나)에서는 따뜻한 몽돌을 어떻게 표현하였습니까?\n",
       "6                       (가)와 (나)에서는 몽돌을 각각 무엇에 비유하였습니까?\n",
       "7     자신의 경험, 관점, 상상력을 바탕으로 할 때 '몽돌'에 대한 생각이나 느낌은 어떠...\n",
       "8                                  핵심 개념을 바탕으로 서술해 봅시다.\n",
       "9                            서술한 내용을 처음부터 다시 한번 써 보시오. \n",
       "10                                        우리 논현은 무엇입니까?\n",
       "11                            뉴스가 우리 생활에 미치는 영향은 무엇입니까?\n",
       "12                                  이 뉴스는 무엇에 대한 뉴스입니까?\n",
       "13                               이 뉴스를 본 사람의 반응은 어떠합니까?\n",
       "14                                 핵심 개념을 바탕으로 서술해 봅시다.\n",
       "Name: 질의문장, dtype: object"
      ]
     },
     "execution_count": 4,
     "metadata": {},
     "output_type": "execute_result"
    }
   ],
   "source": [
    "quiz.질의문장"
   ]
  },
  {
   "cell_type": "code",
   "execution_count": 7,
   "metadata": {},
   "outputs": [
    {
     "name": "stdout",
     "output_type": "stream",
     "text": [
      "Processing c:\\users\\iraja\\bigdata\\jpype1-0.7.1-cp37-cp37m-win_amd64.whl\n",
      "Installing collected packages: JPype1\n",
      "Successfully installed JPype1-0.7.1\n"
     ]
    }
   ],
   "source": [
    "import os\n",
    "os.chdir('C:/Users/iraja/BigData')\n",
    "!pip install JPype1-0.7.1-cp37-cp37m-win_amd64.whl"
   ]
  },
  {
   "cell_type": "code",
   "execution_count": 8,
   "metadata": {},
   "outputs": [
    {
     "name": "stdout",
     "output_type": "stream",
     "text": [
      "Collecting konlpy\n",
      "  Downloading konlpy-0.5.2-py2.py3-none-any.whl (19.4 MB)\n",
      "Requirement already satisfied: JPype1>=0.7.0 in c:\\users\\iraja\\anaconda3\\envs\\study\\lib\\site-packages (from konlpy) (0.7.1)\n",
      "Requirement already satisfied: colorama in c:\\users\\iraja\\anaconda3\\envs\\study\\lib\\site-packages (from konlpy) (0.4.3)\n",
      "Collecting tweepy>=3.7.0\n",
      "  Downloading tweepy-3.8.0-py2.py3-none-any.whl (28 kB)\n",
      "Collecting beautifulsoup4==4.6.0\n",
      "  Downloading beautifulsoup4-4.6.0-py3-none-any.whl (86 kB)\n",
      "Collecting lxml>=4.1.0\n",
      "  Downloading lxml-4.5.0-cp37-cp37m-win_amd64.whl (3.7 MB)\n",
      "Requirement already satisfied: numpy>=1.6 in c:\\users\\iraja\\anaconda3\\envs\\study\\lib\\site-packages (from konlpy) (1.18.1)\n",
      "Requirement already satisfied: six>=1.10.0 in c:\\users\\iraja\\anaconda3\\envs\\study\\lib\\site-packages (from tweepy>=3.7.0->konlpy) (1.14.0)\n",
      "Requirement already satisfied: PySocks>=1.5.7 in c:\\users\\iraja\\anaconda3\\envs\\study\\lib\\site-packages (from tweepy>=3.7.0->konlpy) (1.7.1)\n",
      "Requirement already satisfied: requests-oauthlib>=0.7.0 in c:\\users\\iraja\\anaconda3\\envs\\study\\lib\\site-packages (from tweepy>=3.7.0->konlpy) (1.3.0)\n",
      "Requirement already satisfied: requests>=2.11.1 in c:\\users\\iraja\\anaconda3\\envs\\study\\lib\\site-packages (from tweepy>=3.7.0->konlpy) (2.22.0)\n",
      "Requirement already satisfied: oauthlib>=3.0.0 in c:\\users\\iraja\\anaconda3\\envs\\study\\lib\\site-packages (from requests-oauthlib>=0.7.0->tweepy>=3.7.0->konlpy) (3.1.0)\n",
      "Requirement already satisfied: idna<2.9,>=2.5 in c:\\users\\iraja\\anaconda3\\envs\\study\\lib\\site-packages (from requests>=2.11.1->tweepy>=3.7.0->konlpy) (2.8)\n",
      "Requirement already satisfied: chardet<3.1.0,>=3.0.2 in c:\\users\\iraja\\anaconda3\\envs\\study\\lib\\site-packages (from requests>=2.11.1->tweepy>=3.7.0->konlpy) (3.0.4)\n",
      "Requirement already satisfied: certifi>=2017.4.17 in c:\\users\\iraja\\anaconda3\\envs\\study\\lib\\site-packages (from requests>=2.11.1->tweepy>=3.7.0->konlpy) (2019.11.28)\n",
      "Requirement already satisfied: urllib3!=1.25.0,!=1.25.1,<1.26,>=1.21.1 in c:\\users\\iraja\\anaconda3\\envs\\study\\lib\\site-packages (from requests>=2.11.1->tweepy>=3.7.0->konlpy) (1.25.8)\n",
      "Installing collected packages: tweepy, beautifulsoup4, lxml, konlpy\n",
      "Successfully installed beautifulsoup4-4.6.0 konlpy-0.5.2 lxml-4.5.0 tweepy-3.8.0\n"
     ]
    }
   ],
   "source": [
    "!pip install konlpy"
   ]
  },
  {
   "cell_type": "code",
   "execution_count": 2,
   "metadata": {},
   "outputs": [
    {
     "name": "stdout",
     "output_type": "stream",
     "text": [
      "<class 'pandas.core.series.Series'>\n"
     ]
    }
   ],
   "source": [
    "question = quiz.질의문장\n",
    "print(type(question))\n"
   ]
  },
  {
   "cell_type": "code",
   "execution_count": null,
   "metadata": {},
   "outputs": [],
   "source": [
    "# 형태소 분석"
   ]
  },
  {
   "cell_type": "code",
   "execution_count": 3,
   "metadata": {},
   "outputs": [],
   "source": [
    "from konlpy.tag import Komoran\n",
    "komoran = Komoran()"
   ]
  },
  {
   "cell_type": "code",
   "execution_count": 4,
   "metadata": {},
   "outputs": [
    {
     "name": "stdout",
     "output_type": "stream",
     "text": [
      "['문제', '내용']\n",
      "['메이', '내용']\n",
      "['서술', '내용']\n",
      "['몽', '돌', '제목', '생각', '느낌']\n",
      "['섬', '바닷가', '몽', '돌']\n",
      "['몽', '돌', '표현']\n",
      "['몽', '돌', '비유']\n",
      "['자신', '경험', '관점', '상상력', '바탕', '때', '몽', '돌', '생각', '느낌']\n",
      "['핵심', '개념', '바탕', '서술']\n",
      "['서술', '내용', '처음', '번']\n",
      "['논현']\n",
      "['뉴스', '생활', '영향']\n",
      "['뉴스', '뉴스']\n",
      "['뉴스', '사람', '반응']\n",
      "['핵심', '개념', '바탕', '서술']\n"
     ]
    }
   ],
   "source": [
    "for aa in range(0,len(question)):\n",
    "    print(komoran.nouns(question.iloc[aa]))"
   ]
  },
  {
   "cell_type": "code",
   "execution_count": null,
   "metadata": {},
   "outputs": [],
   "source": [
    "# 트위터 형태소 분석"
   ]
  },
  {
   "cell_type": "code",
   "execution_count": 5,
   "metadata": {},
   "outputs": [
    {
     "name": "stderr",
     "output_type": "stream",
     "text": [
      "C:\\Users\\iraja\\Anaconda3\\envs\\study\\lib\\site-packages\\konlpy\\tag\\_okt.py:16: UserWarning: \"Twitter\" has changed to \"Okt\" since KoNLPy v0.4.5.\n",
      "  warn('\"Twitter\" has changed to \"Okt\" since KoNLPy v0.4.5.')\n"
     ]
    }
   ],
   "source": [
    "from konlpy.tag import Twitter\n",
    "twitter = Twitter()"
   ]
  },
  {
   "cell_type": "code",
   "execution_count": 6,
   "metadata": {},
   "outputs": [
    {
     "name": "stdout",
     "output_type": "stream",
     "text": [
      "[('문제', 'Noun'), ('의', 'Josa'), ('내용', 'Noun'), ('이', 'Josa'), ('무엇', 'Noun'), ('입', 'Noun'), ('니까', 'Josa'), ('?', 'Punctuation')]\n",
      "0 줄 ===========\n",
      "[('메이', 'Noun'), ('파다', 'Verb'), ('언제', 'Noun'), ('인가요', 'Josa'), ('?', 'Punctuation'), ('내용', 'Noun'), ('이', 'Josa'), ('무엇', 'Noun'), ('입', 'Noun'), ('니까', 'Josa'), ('?', 'Punctuation')]\n",
      "1 줄 ===========\n",
      "[('서술', 'Noun'), ('하다', 'Verb'), ('내용', 'Noun'), ('이', 'Josa'), ('무엇', 'Noun'), ('입', 'Noun'), ('니까', 'Josa'), ('?', 'Punctuation')]\n",
      "2 줄 ===========\n",
      "[('몽돌', 'Noun'), (\"'\", 'Punctuation'), ('은', 'Noun'), ('무엇', 'Noun'), ('입', 'Noun'), ('니까', 'Josa'), ('.', 'Punctuation'), ('그리고', 'Conjunction'), ('제목', 'Noun'), ('을', 'Josa'), ('보고', 'Noun'), ('떠오르다', 'Verb'), ('생각', 'Noun'), ('이나', 'Josa'), ('느낌', 'Noun'), ('은', 'Josa'), ('어떠하다', 'Adjective'), ('?', 'Punctuation')]\n",
      "3 줄 ===========\n",
      "[('(', 'Punctuation'), ('가다', 'Verb'), (')', 'Punctuation'), ('에서', 'Josa'), ('외딴', 'Noun'), ('섬', 'Noun'), ('바닷가', 'Noun'), ('의', 'Josa'), ('몽돌', 'Noun'), ('은', 'Josa'), ('어떻다', 'Adjective'), ('만들어지다', 'Verb'), ('오다', 'Verb'), ('하다', 'Verb'), ('?', 'Punctuation')]\n",
      "4 줄 ===========\n",
      "[('(', 'Punctuation'), ('나', 'Noun'), (')', 'Punctuation'), ('에서는', 'Josa'), ('따뜻하다', 'Adjective'), ('몽돌', 'Noun'), ('을', 'Josa'), ('어떻다', 'Adjective'), ('표현', 'Noun'), ('하다', 'Verb'), ('?', 'Punctuation')]\n",
      "5 줄 ===========\n",
      "[('(', 'Punctuation'), ('가다', 'Verb'), (')', 'Punctuation'), ('오다', 'Verb'), ('(', 'Punctuation'), ('나', 'Noun'), (')', 'Punctuation'), ('에서는', 'Josa'), ('몽돌', 'Noun'), ('을', 'Josa'), ('각각', 'Noun'), ('무엇', 'Noun'), ('에', 'Josa'), ('비유', 'Noun'), ('하다', 'Verb'), ('?', 'Punctuation')]\n",
      "6 줄 ===========\n",
      "[('자신', 'Noun'), ('의', 'Josa'), ('경험', 'Noun'), (',', 'Punctuation'), ('관점', 'Noun'), (',', 'Punctuation'), ('상상력', 'Noun'), ('을', 'Josa'), ('바탕', 'Noun'), ('으로', 'Josa'), ('하다', 'Verb'), ('때', 'Noun'), (\"'\", 'Punctuation'), ('몽돌', 'Noun'), (\"'\", 'Punctuation'), ('에', 'Josa'), ('대한', 'Noun'), ('생각', 'Noun'), ('이나', 'Josa'), ('느낌', 'Noun'), ('은', 'Josa'), ('어떠하다', 'Adjective'), ('?', 'Punctuation')]\n",
      "7 줄 ===========\n",
      "[('핵심', 'Noun'), ('개념', 'Noun'), ('을', 'Josa'), ('바탕', 'Noun'), ('으로', 'Josa'), ('서술', 'Noun'), ('하다', 'Verb'), ('보다', 'Verb'), ('.', 'Punctuation')]\n",
      "8 줄 ===========\n",
      "[('서술', 'Noun'), ('한', 'Josa'), ('내용', 'Noun'), ('을', 'Josa'), ('처음', 'Noun'), ('부터', 'Josa'), ('다시', 'Noun'), ('한번', 'Noun'), ('써다', 'Verb'), ('보다', 'Verb'), ('.', 'Punctuation')]\n",
      "9 줄 ===========\n",
      "[('우리', 'Noun'), ('논현', 'Noun'), ('은', 'Josa'), ('무엇', 'Noun'), ('입', 'Noun'), ('니까', 'Josa'), ('?', 'Punctuation')]\n",
      "10 줄 ===========\n",
      "[('뉴스', 'Noun'), ('가', 'Josa'), ('우리', 'Noun'), ('생활', 'Noun'), ('에', 'Josa'), ('미치다', 'Adjective'), ('영향', 'Noun'), ('은', 'Josa'), ('무엇', 'Noun'), ('입', 'Noun'), ('니까', 'Josa'), ('?', 'Punctuation')]\n",
      "11 줄 ===========\n",
      "[('이', 'Noun'), ('뉴스', 'Noun'), ('는', 'Josa'), ('무엇', 'Noun'), ('에', 'Josa'), ('대한', 'Noun'), ('뉴스', 'Noun'), ('입', 'Noun'), ('니까', 'Josa'), ('?', 'Punctuation')]\n",
      "12 줄 ===========\n",
      "[('이', 'Noun'), ('뉴스', 'Noun'), ('를', 'Josa'), ('보다', 'Verb'), ('사람', 'Noun'), ('의', 'Josa'), ('반응', 'Noun'), ('은', 'Josa'), ('어떠하다', 'Adjective'), ('?', 'Punctuation')]\n",
      "13 줄 ===========\n",
      "[('핵심', 'Noun'), ('개념', 'Noun'), ('을', 'Josa'), ('바탕', 'Noun'), ('으로', 'Josa'), ('서술', 'Noun'), ('하다', 'Verb'), ('보다', 'Verb'), ('.', 'Punctuation')]\n",
      "14 줄 ===========\n"
     ]
    }
   ],
   "source": [
    "for aa in range(0,len(question)):\n",
    "    quest = twitter.pos(question.iloc[aa], norm=True, stem=True)\n",
    "    print(quest)\n",
    "    print(aa, '줄 ===========')"
   ]
  },
  {
   "cell_type": "code",
   "execution_count": 7,
   "metadata": {},
   "outputs": [
    {
     "name": "stdout",
     "output_type": "stream",
     "text": [
      "Noun을 가진 단어 와 그 갯수\n",
      "문제 , 1\n",
      "내용 , 4\n",
      "무엇 , 8\n",
      "입 , 7\n",
      "메이 , 1\n",
      "언제 , 1\n",
      "서술 , 4\n",
      "몽돌 , 5\n",
      "은 , 1\n",
      "제목 , 1\n",
      "보고 , 1\n",
      "생각 , 2\n",
      "느낌 , 2\n",
      "외딴 , 1\n",
      "섬 , 1\n",
      "바닷가 , 1\n",
      "나 , 2\n",
      "표현 , 1\n",
      "각각 , 1\n",
      "비유 , 1\n",
      "자신 , 1\n",
      "경험 , 1\n",
      "관점 , 1\n",
      "상상력 , 1\n",
      "바탕 , 3\n",
      "때 , 1\n",
      "대한 , 2\n",
      "핵심 , 2\n",
      "개념 , 2\n",
      "처음 , 1\n",
      "다시 , 1\n",
      "한번 , 1\n",
      "우리 , 2\n",
      "논현 , 1\n",
      "뉴스 , 4\n",
      "생활 , 1\n",
      "영향 , 1\n",
      "이 , 2\n",
      "사람 , 1\n",
      "반응 , 1\n"
     ]
    }
   ],
   "source": [
    "dic = {}\n",
    "for aa in range(0,len(question)):\n",
    "    quest = twitter.pos(question.iloc[aa], norm=True, stem=True)\n",
    "    for word in quest:\n",
    "        if word[1] == 'Noun':\n",
    "                if not (word[0] in dic):\n",
    "                    dic[word[0]] = 0\n",
    "                dic[word[0]] += 1\n",
    "\n",
    "\n",
    "print('Noun을 가진 단어 와 그 갯수')\n",
    "for text in dic:\n",
    "    print(text,',',dic.get(text))\n",
    "    "
   ]
  },
  {
   "cell_type": "code",
   "execution_count": 10,
   "metadata": {},
   "outputs": [
    {
     "name": "stdout",
     "output_type": "stream",
     "text": [
      "Collecting soynlp\n",
      "  Downloading soynlp-0.0.493-py3-none-any.whl (416 kB)\n",
      "Requirement already satisfied: numpy>=1.12.1 in c:\\users\\iraja\\anaconda3\\envs\\study\\lib\\site-packages (from soynlp) (1.18.1)\n",
      "Collecting psutil>=5.0.1\n",
      "  Downloading psutil-5.7.0-cp37-cp37m-win_amd64.whl (235 kB)\n",
      "Requirement already satisfied: scipy>=1.1.0 in c:\\users\\iraja\\anaconda3\\envs\\study\\lib\\site-packages (from soynlp) (1.4.1)\n",
      "Requirement already satisfied: scikit-learn>=0.20.0 in c:\\users\\iraja\\anaconda3\\envs\\study\\lib\\site-packages (from soynlp) (0.22.1)\n",
      "Requirement already satisfied: joblib>=0.11 in c:\\users\\iraja\\anaconda3\\envs\\study\\lib\\site-packages (from scikit-learn>=0.20.0->soynlp) (0.14.1)\n",
      "Installing collected packages: psutil, soynlp\n",
      "Successfully installed psutil-5.7.0 soynlp-0.0.493\n",
      "Note: you may need to restart the kernel to use updated packages.\n"
     ]
    }
   ],
   "source": [
    "\n",
    "pip install soynlp"
   ]
  },
  {
   "cell_type": "code",
   "execution_count": 12,
   "metadata": {},
   "outputs": [
    {
     "data": {
      "text/plain": [
       "<soynlp.tokenizer._tokenizer.MaxScoreTokenizer at 0x2a4d6d73c48>"
      ]
     },
     "execution_count": 12,
     "metadata": {},
     "output_type": "execute_result"
    }
   ],
   "source": [
    "from soynlp.tokenizer import MaxScoreTokenizer\n",
    "\n",
    "mmax =  MaxScoreTokenizer(scores = question[0])\n"
   ]
  },
  {
   "cell_type": "code",
   "execution_count": null,
   "metadata": {},
   "outputs": [],
   "source": []
  }
 ],
 "metadata": {
  "kernelspec": {
   "display_name": "Python 3",
   "language": "python",
   "name": "python3"
  },
  "language_info": {
   "codemirror_mode": {
    "name": "ipython",
    "version": 3
   },
   "file_extension": ".py",
   "mimetype": "text/x-python",
   "name": "python",
   "nbconvert_exporter": "python",
   "pygments_lexer": "ipython3",
   "version": "3.7.4"
  }
 },
 "nbformat": 4,
 "nbformat_minor": 4
}
